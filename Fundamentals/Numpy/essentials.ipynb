{
 "cells": [
  {
   "cell_type": "markdown",
   "id": "8751bc08",
   "metadata": {},
   "source": [
    "# NumPy Essentials"
   ]
  },
  {
   "cell_type": "markdown",
   "id": "7002ce5d",
   "metadata": {},
   "source": [
    "### Basic Array Creation:"
   ]
  },
  {
   "cell_type": "code",
   "execution_count": 10,
   "id": "dbd5d81e",
   "metadata": {},
   "outputs": [
    {
     "name": "stdout",
     "output_type": "stream",
     "text": [
      "1\n",
      "(2, 3)\n",
      "27\n",
      "float64\n",
      "8\n",
      "32\n"
     ]
    }
   ],
   "source": [
    "import numpy as np\n",
    "\n",
    "a = np.array([1,2,3])               # 1D array/tensor  [1 2 3]\n",
    "\n",
    "b = np.array([[1,2,3], [4,5,6]])    # 2D array/tensor  [[1 2 3]\n",
    "                                    #           [4 5 6]]\n",
    "\n",
    "c = np.zeros((3,3,3))               # 3D tensor of zeroes\n",
    "                                    # [[[0. 0. 0.]\n",
    "                                    #   [0. 0. 0.]\n",
    "                                    #   [0. 0. 0.]]\n",
    "\n",
    "                                    #  [[0. 0. 0.]\n",
    "                                    #   [0. 0. 0.]\n",
    "                                    #   [0. 0. 0.]]\n",
    "\n",
    "                                    #  [[0. 0. 0.]\n",
    "                                    #   [0. 0. 0.]\n",
    "                                    #   [0. 0. 0.]]]\n",
    "\n",
    "\n",
    "d = np.ones((2, 4))                 # 2D tensor of ones\n",
    "                                    # [[1. 1. 1. 1.]\n",
    "                                    #  [1. 1. 1. 1.]]\n",
    "\n",
    "e = np.eye(3)                       # identity matrix\n",
    "                                    # [[1. 0. 0.]\n",
    "                                    #  [0. 1. 0.]\n",
    "                                    #  [0. 0. 1.]]\n",
    "\n",
    "\n",
    "f = np.random.random((2, 2))         # random values\n",
    "                                    # [[0.37699864 0.25810566]\n",
    "                                    #  [0.037246   0.45232324]]\n",
    "\n",
    "\n",
    "\n",
    "# Array attributes\n",
    "\n",
    "print(a.ndim)                       # number of dimensions \n",
    "                                        # prints 1\n",
    "\n",
    "print(b.shape)                      # shape of array\n",
    "                                        # prints (2, 3). 2 for number of arrays, 3 for number of elements per array\n",
    "\n",
    "print(c.size)                       # total number of elements\n",
    "                                        # prints 27\n",
    "\n",
    "print(d.dtype)                      # data type\n",
    "                                        # prints float64\n",
    "\n",
    "print(e.itemsize)                   # size in bytes of each element\n",
    "                                        # prints 8 (recall: 1 byte = 8 bits. so 8 bytes = 64 bits)\n",
    "\n",
    "print(f.nbytes)                     # total bytes consumed by array"
   ]
  },
  {
   "cell_type": "markdown",
   "id": "96f9e07e",
   "metadata": {},
   "source": [
    "### Memory Layout: \n",
    "how tensor data is physically arranged in computer memory."
   ]
  },
  {
   "cell_type": "code",
   "execution_count": 13,
   "id": "83802b50",
   "metadata": {},
   "outputs": [
    {
     "name": "stdout",
     "output_type": "stream",
     "text": [
      "True\n"
     ]
    }
   ],
   "source": [
    "x = np.array([[1,2,3], [4,5,6]], order='C')\n",
    "print(x.flags.c_contiguous)     # Is it C-contiguous? True\n"
   ]
  },
  {
   "cell_type": "code",
   "execution_count": 12,
   "id": "39dfb97c",
   "metadata": {},
   "outputs": [
    {
     "name": "stdout",
     "output_type": "stream",
     "text": [
      "True\n"
     ]
    }
   ],
   "source": [
    "y = x = np.array([[1,2,3], [4,5,6]], order='F')\n",
    "print(y.flags.f_contiguous)     # Is it Fortran contiguous? "
   ]
  },
  {
   "cell_type": "markdown",
   "id": "cc7bba51",
   "metadata": {},
   "source": [
    "### Basic Operations"
   ]
  },
  {
   "cell_type": "code",
   "execution_count": 21,
   "id": "51a1dece",
   "metadata": {},
   "outputs": [
    {
     "name": "stdout",
     "output_type": "stream",
     "text": [
      "[5 7 9]\n",
      "[ 4 10 18]\n",
      "32\n"
     ]
    }
   ],
   "source": [
    "# Element-wise operations\n",
    "a = np.array([1,2,3])\n",
    "b = np.array([4,5,6])\n",
    "\n",
    "print(a+b)                  # addition [5, 7, 9]\n",
    "print(a * b)                # element-wise multiplication [4, 10, 18]\n",
    "print(np.dot(a,b))          # dot product/sum(a*b) : 32"
   ]
  },
  {
   "cell_type": "code",
   "execution_count": 23,
   "id": "b1676c5e",
   "metadata": {},
   "outputs": [
    {
     "name": "stdout",
     "output_type": "stream",
     "text": [
      "[[19 22]\n",
      " [43 50]]\n",
      "\n",
      "\n",
      "[[19 22]\n",
      " [43 50]]\n"
     ]
    }
   ],
   "source": [
    "# Matrix operations\n",
    "A = np.array([[1,2], [3,4]])\n",
    "B = np.array([[5,6], [7,8]])\n",
    "\n",
    "print(A @ B)                # matrix multiplication\n",
    "print(\"\\n\")\n",
    "print(np.matmul(A,B))       # same as above"
   ]
  },
  {
   "cell_type": "markdown",
   "id": "4284f829",
   "metadata": {},
   "source": [
    "#### Vectorized Operations"
   ]
  },
  {
   "cell_type": "code",
   "execution_count": null,
   "id": "8ba3caa5",
   "metadata": {},
   "outputs": [
    {
     "name": "stdout",
     "output_type": "stream",
     "text": [
      "[6 7 8]\n"
     ]
    }
   ],
   "source": [
    "a = np.array([1,2,3])\n",
    "print(a + 5)            # adds 5 to each element in the array"
   ]
  },
  {
   "cell_type": "code",
   "execution_count": 24,
   "id": "03ec7a77",
   "metadata": {},
   "outputs": [
    {
     "name": "stdout",
     "output_type": "stream",
     "text": [
      "[[ -0.02447243  -4.58678592   2.79514857   4.37957598  -5.01027197\n",
      "    0.79991992   1.06516404  -6.75187828  -5.5635052   -2.75984379]\n",
      " [  5.07939064  -6.08044128  -2.0107042   -3.23687038  -1.9939912\n",
      "   -1.43513934   4.59965931  -1.24282259  -4.99097576  11.89869832]\n",
      " [ -1.54279366  -5.47952922   3.42598619   4.50755354   3.87820602\n",
      "   -4.19837516   2.73886503  -5.62062562   4.98620218   4.14222144]\n",
      " [ 10.81880802  -3.0316239    1.3985158   -8.4999524    8.4718774\n",
      "    6.96113947   7.70438246   0.23762215  -1.93385122   3.39785957]\n",
      " [  2.22880788   2.62092499   1.47809868  -0.47977848   4.65140253\n",
      "   -0.25928333   5.94391666   4.55825208  -3.7509756   -8.45029718]\n",
      " [ -1.25629205  -0.51275671  -8.27743996   1.48546517   0.08115635\n",
      "    4.33144519 -12.68775831   5.41431455  -0.59448426  -7.32965964]\n",
      " [ -1.39553701 -14.52411923  -0.93647355  -2.92908507  -0.73956153\n",
      "    2.17402357  -1.53052591 -11.38280558  -4.81727417   6.00257577]\n",
      " [ -2.49392955  -3.25959384  -0.51832825  -5.34498951   7.89476589\n",
      "    1.51228891  -6.49448237   0.48378173   1.01601658  -0.53514001]\n",
      " [ -6.83392948   2.16687329  -3.33322049   2.78308091  -0.59196055\n",
      "    5.62299811  -2.12529449   4.46238733   2.07122165 -10.7969715 ]\n",
      " [ -1.37557556   7.22198767   7.67152946  -1.69603545  -8.77947343\n",
      "   -7.58507589   7.01532742   3.83841619   2.02003209  -7.60197409]]\n"
     ]
    }
   ],
   "source": [
    "batch = np.random.randn(32, 10, 10)     # batch of 32 10x10 matrices\n",
    "result = np.sum(batch, axis=0)          # sum across batch dimension\n",
    "\n",
    "print(result)"
   ]
  },
  {
   "cell_type": "markdown",
   "id": "faa96d40",
   "metadata": {},
   "source": [
    "#### Memory Views and Slicing\n",
    "\n",
    "\n",
    "- A **view** is a reference/alias of an object (point to same location in memory). Changes to the original object change the view and vice versa.\n",
    "\n",
    "For example, \n",
    "\n",
    "```\n",
    "my_array = np.arange(10)\n",
    "print(my_array)  # [0, 1, 2, 3, 4, 5, 6, 7, 8, 9]\n",
    "\n",
    "# Take a portion of the array from index 2 to index 5 (not including 5)\n",
    "slice_of_array = my_array[2:5]\n",
    "print(slice_of_array)  # [2, 3, 4]\n",
    "```\n",
    "\n",
    "This creates a \"view\" - which means slice_of_array is looking at the same data as my_array, just a smaller portion of it."
   ]
  },
  {
   "cell_type": "code",
   "execution_count": 36,
   "id": "9456ddb6",
   "metadata": {},
   "outputs": [
    {
     "name": "stdout",
     "output_type": "stream",
     "text": [
      "[ 0  1 99  3  4  5  6  7  8  9]\n",
      "[ 0  1 99  3  4  5  6  7  8  9]\n"
     ]
    }
   ],
   "source": [
    "# Slicing creates views, not copies\n",
    "\n",
    "a = np.arange(10)           # an array 0-9 inclusive. [0 1 2 3 4 5 6 7 8 9]\n",
    "b = a[2:5]                  # [2 3 4]\n",
    "b[0] = 99                   # [99 3 4]\n",
    "print(a)                    # [ 0  1 99  3  4  5  6  7  8  9]\n",
    "\n",
    "\n",
    "# Explicit copy\n",
    "\n",
    "c = a[2:5].copy()\n",
    "c[0] = 42                   # This doesn't affect a\n",
    "print(a)                    # [0, 1, 99, 3, 4, 5, 6, 7, 8, 9]"
   ]
  },
  {
   "cell_type": "code",
   "execution_count": 37,
   "id": "2032b66c",
   "metadata": {},
   "outputs": [
    {
     "name": "stdout",
     "output_type": "stream",
     "text": [
      "After modifying through view1:\n",
      "original: [ 10 999  30  40  50]\n",
      "view1: [999  30  40]\n",
      "view2: [10 30 50]\n",
      "\n",
      "After modifying through original:\n",
      "original: [ 10 999 888  40  50]\n",
      "view1: [999 888  40]\n",
      "view2: [ 10 888  50]\n"
     ]
    }
   ],
   "source": [
    "# EXAMPLE OF VIEWS\n",
    "\n",
    "# Original array\n",
    "original = np.array([10, 20, 30, 40, 50])\n",
    "\n",
    "# Create two different views of the same array\n",
    "view1 = original[1:4]      # [20, 30, 40]\n",
    "view2 = original[::2]      # [10, 30, 50]\n",
    "\n",
    "# Modify through the first view\n",
    "view1[0] = 999             # Changes original[1] to 999\n",
    "\n",
    "print(\"After modifying through view1:\")\n",
    "print(\"original:\", original)  # [10, 999, 30, 40, 50]\n",
    "print(\"view1:\", view1)        # [999, 30, 40]\n",
    "print(\"view2:\", view2)        # [10, 30, 50]  (view2[1] not affected as it's original[2])\n",
    "\n",
    "# Modify through the original\n",
    "original[2] = 888\n",
    "\n",
    "print(\"\\nAfter modifying through original:\")\n",
    "print(\"original:\", original)  # [10, 999, 888, 40, 50]\n",
    "print(\"view1:\", view1)        # [999, 888, 40]\n",
    "print(\"view2:\", view2)        # [10, 888, 50]  (view2[1] is affected as it's original[2])"
   ]
  },
  {
   "cell_type": "markdown",
   "id": "0afac608",
   "metadata": {},
   "source": [
    "### NumPy Internals"
   ]
  },
  {
   "cell_type": "markdown",
   "id": "7bfe8ff1",
   "metadata": {},
   "source": [
    "#### Strides"
   ]
  },
  {
   "cell_type": "code",
   "execution_count": 32,
   "id": "fb47a3b2",
   "metadata": {},
   "outputs": [
    {
     "name": "stdout",
     "output_type": "stream",
     "text": [
      "(12, 4)\n"
     ]
    }
   ],
   "source": [
    "# strides\n",
    "x = np.array([[1,2,3], \n",
    "              [4,5,6]], \n",
    "              dtype=np.int32)\n",
    "\n",
    "print(x.strides)        # bytes to step in each dimension"
   ]
  },
  {
   "cell_type": "markdown",
   "id": "0e502fdc",
   "metadata": {},
   "source": [
    "The output is (12, 4).\n",
    "\n",
    "Each element’s size in memory = number of bytes needed to store its value. <br>\n",
    "`dtype=np.int32` means each element is a **32-bit** integer → **4 bytes** <br>\n",
    "(32 bits ÷ 8 bits per byte = 4 bytes)\n",
    "\n",
    "- First number (12) → # of bytes to move **to the next row** (axis 0)\n",
    "    - each row has 3 elements x 4 bytes = 12 bytes\n",
    "- Second number (4) → bytes to move **to the next column** (axis 1)\n",
    "    - each step within a row moves by 1 element → 4 bytes\n",
    "\n",
    "\n",
    "##### Intuition:\n",
    "\n",
    "Think of the array as **flattened memory**:\n",
    "\n",
    "`[1, 2, 3, 4, 5, 6]  ← all stored in a contiguous memory block`\n",
    "\n",
    "- from `1 → 2` → +4 bytes (column move)\n",
    "- from `1 → 4` → +12 bytes (row move)\n"
   ]
  },
  {
   "cell_type": "markdown",
   "id": "93dee64b",
   "metadata": {},
   "source": [
    "##### Using `numpy.lib.strides_tricks`"
   ]
  },
  {
   "cell_type": "code",
   "execution_count": null,
   "id": "3d923cbb",
   "metadata": {},
   "outputs": [
    {
     "name": "stdout",
     "output_type": "stream",
     "text": [
      "[[0 1 2]\n",
      " [1 2 3]\n",
      " [2 3 4]\n",
      " [3 4 5]\n",
      " [4 5 6]\n",
      " [5 6 7]]\n"
     ]
    }
   ],
   "source": [
    "from numpy.lib.stride_tricks import as_strided\n",
    "\n",
    "# Create a sliding window view (important pattern for convolutions)\n",
    "# For int64 arrays, each element is 8 bytes\n",
    "# Element stride of 1 = 8 bytes, for the sliding window\n",
    "\n",
    "a = np.arange(10)\n",
    "windows = as_strided(a, shape=(6, 3), strides=(8, 8))\n",
    "print(windows)\n",
    "\n",
    "# [[0 1 2]\n",
    "#  [1 2 3]\n",
    "#  [2 3 4]\n",
    "#  [3 4 5]\n",
    "#  [4 5 6]\n",
    "#  [5 6 7]]"
   ]
  },
  {
   "cell_type": "markdown",
   "id": "9e8dfc18",
   "metadata": {},
   "source": [
    "Each row is one \"window\" into our original array."
   ]
  },
  {
   "cell_type": "markdown",
   "id": "499c18fd",
   "metadata": {},
   "source": []
  }
 ],
 "metadata": {
  "kernelspec": {
   "display_name": "kernel_from_scratch",
   "language": "python",
   "name": "python3"
  },
  "language_info": {
   "codemirror_mode": {
    "name": "ipython",
    "version": 3
   },
   "file_extension": ".py",
   "mimetype": "text/x-python",
   "name": "python",
   "nbconvert_exporter": "python",
   "pygments_lexer": "ipython3",
   "version": "3.13.2"
  }
 },
 "nbformat": 4,
 "nbformat_minor": 5
}
