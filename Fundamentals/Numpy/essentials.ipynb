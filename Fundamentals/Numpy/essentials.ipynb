{
 "cells": [
  {
   "cell_type": "markdown",
   "id": "8751bc08",
   "metadata": {},
   "source": [
    "# NumPy Essentials"
   ]
  },
  {
   "cell_type": "markdown",
   "id": "7002ce5d",
   "metadata": {},
   "source": [
    "### Basic Array Creation:"
   ]
  },
  {
   "cell_type": "markdown",
   "id": "469b2a83",
   "metadata": {},
   "source": [
    "**Note:** In NumPy, the term \"tensor\" is often used to refer to arrays of any dimension. A 1D array is a vector, a 2D array is a matrix, and higher-dimensional arrays are called tensors."
   ]
  },
  {
   "cell_type": "code",
   "execution_count": 2,
   "id": "dbd5d81e",
   "metadata": {},
   "outputs": [
    {
     "name": "stdout",
     "output_type": "stream",
     "text": [
      "1\n",
      "(2, 3)\n",
      "27\n",
      "float64\n",
      "8\n",
      "32\n"
     ]
    }
   ],
   "source": [
    "import numpy as np\n",
    "\n",
    "a = np.array([1,2,3])               # 1D array/tensor  [1 2 3]\n",
    "\n",
    "b = np.array([[1,2,3], [4,5,6]])    # 2D array/tensor  [[1 2 3]\n",
    "                                    #           [4 5 6]]\n",
    "\n",
    "c = np.zeros((3,3,3))               # 3D tensor of zeroes\n",
    "                                    # [[[0. 0. 0.]\n",
    "                                    #   [0. 0. 0.]\n",
    "                                    #   [0. 0. 0.]]\n",
    "\n",
    "                                    #  [[0. 0. 0.]\n",
    "                                    #   [0. 0. 0.]\n",
    "                                    #   [0. 0. 0.]]\n",
    "\n",
    "                                    #  [[0. 0. 0.]\n",
    "                                    #   [0. 0. 0.]\n",
    "                                    #   [0. 0. 0.]]]\n",
    "\n",
    "\n",
    "d = np.ones((2, 4))                 # 2D tensor of ones\n",
    "                                    # [[1. 1. 1. 1.]\n",
    "                                    #  [1. 1. 1. 1.]]\n",
    "\n",
    "e = np.eye(3)                       # identity matrix\n",
    "                                    # [[1. 0. 0.]\n",
    "                                    #  [0. 1. 0.]\n",
    "                                    #  [0. 0. 1.]]\n",
    "\n",
    "\n",
    "f = np.random.random((2, 2))         # random values\n",
    "                                    # [[0.37699864 0.25810566]\n",
    "                                    #  [0.037246   0.45232324]]\n",
    "\n",
    "\n",
    "\n",
    "# Array attributes\n",
    "\n",
    "print(a.ndim)                       # number of dimensions \n",
    "                                        # prints 1\n",
    "\n",
    "print(b.shape)                      # shape of array\n",
    "                                        # prints (2, 3). 2 for number of arrays, 3 for number of elements per array\n",
    "\n",
    "print(c.size)                       # total number of elements\n",
    "                                        # prints 27\n",
    "\n",
    "print(d.dtype)                      # data type\n",
    "                                        # prints float64\n",
    "\n",
    "print(e.itemsize)                   # size in bytes of each element\n",
    "                                        # prints 8 (recall: 1 byte = 8 bits. so 8 bytes = 64 bits)\n",
    "\n",
    "print(f.nbytes)                     # total bytes consumed by array"
   ]
  },
  {
   "cell_type": "markdown",
   "id": "96f9e07e",
   "metadata": {},
   "source": [
    "### Memory Layout: \n",
    "how tensor data is physically arranged in computer memory."
   ]
  },
  {
   "cell_type": "code",
   "execution_count": 3,
   "id": "83802b50",
   "metadata": {},
   "outputs": [
    {
     "name": "stdout",
     "output_type": "stream",
     "text": [
      "True\n"
     ]
    }
   ],
   "source": [
    "x = np.array([[1,2,3], [4,5,6]], order='C')\n",
    "print(x.flags.c_contiguous)     # Is it C-contiguous? True\n"
   ]
  },
  {
   "cell_type": "code",
   "execution_count": 4,
   "id": "39dfb97c",
   "metadata": {},
   "outputs": [
    {
     "name": "stdout",
     "output_type": "stream",
     "text": [
      "True\n"
     ]
    }
   ],
   "source": [
    "y = x = np.array([[1,2,3], [4,5,6]], order='F')\n",
    "print(y.flags.f_contiguous)     # Is it Fortran contiguous? "
   ]
  },
  {
   "cell_type": "markdown",
   "id": "0e6707f1",
   "metadata": {},
   "source": [
    "**C order** means rows are stored one after another (row-major). **Fortran order** means columns are stored one after another (column-major). This affects how data is laid out in memory and can impact performance for some operations."
   ]
  },
  {
   "cell_type": "markdown",
   "id": "cc7bba51",
   "metadata": {},
   "source": [
    "### Basic Operations"
   ]
  },
  {
   "cell_type": "code",
   "execution_count": 5,
   "id": "51a1dece",
   "metadata": {},
   "outputs": [
    {
     "name": "stdout",
     "output_type": "stream",
     "text": [
      "[5 7 9]\n",
      "[ 4 10 18]\n",
      "32\n"
     ]
    }
   ],
   "source": [
    "# Element-wise operations\n",
    "a = np.array([1,2,3])\n",
    "b = np.array([4,5,6])\n",
    "\n",
    "print(a+b)                  # addition [5, 7, 9]\n",
    "print(a * b)                # element-wise multiplication [4, 10, 18]\n",
    "print(np.dot(a,b))          # dot product/sum(a*b) : 32"
   ]
  },
  {
   "cell_type": "code",
   "execution_count": 6,
   "id": "b1676c5e",
   "metadata": {},
   "outputs": [
    {
     "name": "stdout",
     "output_type": "stream",
     "text": [
      "[[19 22]\n",
      " [43 50]]\n",
      "\n",
      "\n",
      "[[19 22]\n",
      " [43 50]]\n"
     ]
    }
   ],
   "source": [
    "# Matrix operations\n",
    "A = np.array([[1,2], [3,4]])\n",
    "B = np.array([[5,6], [7,8]])\n",
    "\n",
    "print(A @ B)                # matrix multiplication\n",
    "print(\"\\n\")\n",
    "print(np.matmul(A,B))       # same as above"
   ]
  },
  {
   "cell_type": "markdown",
   "id": "4284f829",
   "metadata": {},
   "source": [
    "#### Vectorized Operations"
   ]
  },
  {
   "cell_type": "code",
   "execution_count": 7,
   "id": "8ba3caa5",
   "metadata": {},
   "outputs": [
    {
     "name": "stdout",
     "output_type": "stream",
     "text": [
      "[6 7 8]\n"
     ]
    }
   ],
   "source": [
    "a = np.array([1,2,3])\n",
    "print(a + 5)            # adds 5 to each element in the array"
   ]
  },
  {
   "cell_type": "markdown",
   "id": "26fdab69",
   "metadata": {},
   "source": [
    "Vectorized operations in NumPy are fast because they are implemented in compiled C code under the hood, allowing operations on entire arrays without explicit Python loops. This leads to significant speedups for large data."
   ]
  },
  {
   "cell_type": "code",
   "execution_count": 8,
   "id": "03ec7a77",
   "metadata": {},
   "outputs": [
    {
     "name": "stdout",
     "output_type": "stream",
     "text": [
      "[[-8.42345984e+00 -1.01916172e+01 -7.45918410e-01  3.96268543e+00\n",
      "  -5.72833093e+00  2.91438727e+00  4.06279948e+00  4.12523109e+00\n",
      "   3.00733531e-01  9.78858080e-02]\n",
      " [ 1.59576119e+00  3.26355065e+00 -1.06319812e+01  4.70533281e+00\n",
      "  -1.48214898e+00 -2.52620053e+00  2.65741680e-01  4.16388773e-01\n",
      "   9.22887221e+00  2.71577359e+00]\n",
      " [-9.66200392e-01 -2.17186285e+00  6.75360270e+00  5.99673669e+00\n",
      "  -9.85259070e+00 -4.46350024e+00 -3.23534501e+00 -3.02228031e+00\n",
      "   6.64894340e+00 -2.07698746e-01]\n",
      " [ 4.43036087e+00 -3.90701380e+00 -4.51090876e+00  4.16867809e+00\n",
      "  -5.70280260e-01  1.95887322e+00 -1.60934887e-01 -1.66273426e+00\n",
      "   2.61067655e+00 -2.44358783e+00]\n",
      " [ 3.51765638e+00  4.65760575e+00 -8.96849909e-01 -1.06300686e+00\n",
      "  -5.01294087e+00  3.82284722e+00  3.77360233e+00  2.68585738e+00\n",
      "   8.32719266e+00 -9.34176480e+00]\n",
      " [-3.47242746e+00 -3.58623833e+00 -9.61253561e-01  1.39347319e+00\n",
      "   1.32623086e+00 -1.41734816e+00 -3.96135494e+00 -3.41007842e+00\n",
      "  -4.21338940e+00 -7.24046272e+00]\n",
      " [-1.66593856e+01 -1.88375474e-01  5.39244429e+00  9.63068424e-01\n",
      "   4.29069316e+00 -6.24799863e+00 -6.41083656e+00  4.27256832e+00\n",
      "  -7.06174952e+00  6.95411295e+00]\n",
      " [ 2.57333024e-02  7.24614163e+00  5.25180381e+00  6.67631814e+00\n",
      "   2.84832739e-01 -5.26630346e+00 -1.59437223e-03 -9.95875547e+00\n",
      "   2.31109628e+00  6.40286987e-02]\n",
      " [ 1.19716494e+01  1.71500697e-01  2.77296476e-01 -1.01661562e+01\n",
      "  -1.77701099e+00 -5.46968459e+00  8.52619956e+00  2.01530821e+00\n",
      "   6.04138132e+00  9.10008895e+00]\n",
      " [ 4.87703646e+00 -1.68493879e+00 -7.19759065e+00  1.09044935e-01\n",
      "   5.07082145e-01 -1.14342681e+01  4.98130023e+00  9.19224842e-01\n",
      "  -5.40917816e+00 -2.29185723e+00]]\n"
     ]
    }
   ],
   "source": [
    "batch = np.random.randn(32, 10, 10)     # batch of 32 10x10 matrices\n",
    "result = np.sum(batch, axis=0)          # sum across batch dimension\n",
    "\n",
    "print(result)"
   ]
  },
  {
   "cell_type": "markdown",
   "id": "faa96d40",
   "metadata": {},
   "source": [
    "#### Memory Views and Slicing\n",
    "\n",
    "\n",
    "- A **view** is a reference/alias of an object (point to same location in memory). Changes to the original object change the view and vice versa.\n",
    "\n",
    "For example, \n",
    "\n",
    "```\n",
    "my_array = np.arange(10)\n",
    "print(my_array)  # [0, 1, 2, 3, 4, 5, 6, 7, 8, 9]\n",
    "\n",
    "# Take a portion of the array from index 2 to index 5 (not including 5)\n",
    "slice_of_array = my_array[2:5]\n",
    "print(slice_of_array)  # [2, 3, 4]\n",
    "```\n",
    "\n",
    "This creates a \"view\" - which means slice_of_array is looking at the same data as my_array, just a smaller portion of it."
   ]
  },
  {
   "cell_type": "code",
   "execution_count": 9,
   "id": "9456ddb6",
   "metadata": {},
   "outputs": [
    {
     "name": "stdout",
     "output_type": "stream",
     "text": [
      "[ 0  1 99  3  4  5  6  7  8  9]\n",
      "[ 0  1 99  3  4  5  6  7  8  9]\n"
     ]
    }
   ],
   "source": [
    "# Slicing creates views, not copies\n",
    "\n",
    "a = np.arange(10)           # an array 0-9 inclusive. [0 1 2 3 4 5 6 7 8 9]\n",
    "b = a[2:5]                  # [2 3 4]\n",
    "b[0] = 99                   # [99 3 4]\n",
    "print(a)                    # [ 0  1 99  3  4  5  6  7  8  9]\n",
    "\n",
    "\n",
    "# Explicit copy\n",
    "\n",
    "c = a[2:5].copy()\n",
    "c[0] = 42                   # This doesn't affect a\n",
    "print(a)                    # [0, 1, 99, 3, 4, 5, 6, 7, 8, 9]"
   ]
  },
  {
   "cell_type": "code",
   "execution_count": 10,
   "id": "2032b66c",
   "metadata": {},
   "outputs": [
    {
     "name": "stdout",
     "output_type": "stream",
     "text": [
      "After modifying through view1:\n",
      "original: [ 10 999  30  40  50]\n",
      "view1: [999  30  40]\n",
      "view2: [10 30 50]\n",
      "\n",
      "After modifying through original:\n",
      "original: [ 10 999 888  40  50]\n",
      "view1: [999 888  40]\n",
      "view2: [ 10 888  50]\n"
     ]
    }
   ],
   "source": [
    "# EXAMPLE OF VIEWS\n",
    "\n",
    "# Original array\n",
    "original = np.array([10, 20, 30, 40, 50])\n",
    "\n",
    "# Create two different views of the same array\n",
    "view1 = original[1:4]      # [20, 30, 40]\n",
    "view2 = original[::2]      # [10, 30, 50]\n",
    "\n",
    "# Modify through the first view\n",
    "view1[0] = 999             # Changes original[1] to 999\n",
    "\n",
    "print(\"After modifying through view1:\")\n",
    "print(\"original:\", original)  # [10, 999, 30, 40, 50]\n",
    "print(\"view1:\", view1)        # [999, 30, 40]\n",
    "print(\"view2:\", view2)        # [10, 30, 50]  (view2[1] not affected as it's original[2])\n",
    "\n",
    "# Modify through the original\n",
    "original[2] = 888\n",
    "\n",
    "print(\"\\nAfter modifying through original:\")\n",
    "print(\"original:\", original)  # [10, 999, 888, 40, 50]\n",
    "print(\"view1:\", view1)        # [999, 888, 40]\n",
    "print(\"view2:\", view2)        # [10, 888, 50]  (view2[1] is affected as it's original[2])"
   ]
  },
  {
   "cell_type": "markdown",
   "id": "0afac608",
   "metadata": {},
   "source": [
    "#### Advanced Indexing\n",
    "\n",
    "- Advanced indexing occurs when you use lists or boolean arrays to index into an array.\n",
    "- **Warning:** Advanced indexing creates copies of the data, and modifying the copy will not affect the original array.\n",
    "\n",
    "For example:\n",
    "\n",
    "```python\n",
    "my_array = np.arange(10)\n",
    "print('my_array:', my_array)  # [0 1 2 3 4 5 6 7 8 9]\n",
    "\n",
    "# Using a list for advanced indexing\n",
    "advanced_indexed_array = my_array[[1, 2, 8]]\n",
    "print('advanced_indexed_array:', advanced_indexed_array)  # [1 2 8]\n",
    "\n",
    "# Modify the advanced indexed array\n",
    "advanced_indexed_array[0] = 99\n",
    "print('After modifying advanced_indexed_array:')\n",
    "print('my_array:', my_array)  # [0 1 2 3 4 5 6 7 8 9]\n",
    "print('advanced_indexed_array:', advanced_indexed_array)  # [99 2 8]\n",
    "```\n",
    "\n",
    "Even though `advanced_indexed_array` was created from `my_array`, it is a separate copy, and changes to it do not affect the original `my_array`.\n",
    "\n",
    "\n",
    "### NumPy Internals"
   ]
  },
  {
   "cell_type": "markdown",
   "id": "7bfe8ff1",
   "metadata": {},
   "source": [
    "#### Strides"
   ]
  },
  {
   "cell_type": "code",
   "execution_count": 11,
   "id": "fb47a3b2",
   "metadata": {},
   "outputs": [
    {
     "name": "stdout",
     "output_type": "stream",
     "text": [
      "(12, 4)\n"
     ]
    }
   ],
   "source": [
    "# strides\n",
    "x = np.array([[1,2,3], \n",
    "              [4,5,6]], \n",
    "              dtype=np.int32)\n",
    "\n",
    "print(x.strides)        # bytes to step in each dimension"
   ]
  },
  {
   "cell_type": "markdown",
   "id": "0e502fdc",
   "metadata": {},
   "source": [
    "The output is (12, 4).\n",
    "\n",
    "Each element’s size in memory = number of bytes needed to store its value. <br>\n",
    "`dtype=np.int32` means each element is a **32-bit** integer → **4 bytes** <br>\n",
    "(32 bits ÷ 8 bits per byte = 4 bytes)\n",
    "\n",
    "- First number (12) → # of bytes to move **to the next row** (axis 0)\n",
    "    - each row has 3 elements x 4 bytes = 12 bytes\n",
    "- Second number (4) → bytes to move **to the next column** (axis 1)\n",
    "    - each step within a row moves by 1 element → 4 bytes\n",
    "\n",
    "\n",
    "##### Intuition:\n",
    "\n",
    "Think of the array as **flattened memory**:\n",
    "\n",
    "`[1, 2, 3, 4, 5, 6]  ← all stored in a contiguous memory block`\n",
    "\n",
    "- from `1 → 2` → +4 bytes (column move)\n",
    "- from `1 → 4` → +12 bytes (row move)\n"
   ]
  },
  {
   "cell_type": "markdown",
   "id": "93dee64b",
   "metadata": {},
   "source": [
    "##### Using `numpy.lib.strides_tricks`"
   ]
  },
  {
   "cell_type": "code",
   "execution_count": null,
   "id": "3d923cbb",
   "metadata": {},
   "outputs": [
    {
     "name": "stdout",
     "output_type": "stream",
     "text": [
      "[[0 1 2]\n",
      " [1 2 3]\n",
      " [2 3 4]\n",
      " [3 4 5]\n",
      " [4 5 6]\n",
      " [5 6 7]]\n"
     ]
    }
   ],
   "source": [
    "from numpy.lib.stride_tricks import as_strided\n",
    "\n",
    "# Create a sliding window view (important pattern for convolutions)\n",
    "# For int64 arrays, each element is 8 bytes\n",
    "# Element stride of 1 = 8 bytes, for the sliding window\n",
    "\n",
    "a = np.arange(10)\n",
    "windows = as_strided(a, shape=(6, 3), strides=(8, 8))\n",
    "print(windows)\n",
    "\n",
    "# [[0 1 2]\n",
    "#  [1 2 3]\n",
    "#  [2 3 4]\n",
    "#  [3 4 5]\n",
    "#  [4 5 6]\n",
    "#  [5 6 7]]"
   ]
  },
  {
   "cell_type": "markdown",
   "id": "9e8dfc18",
   "metadata": {},
   "source": [
    "Each row is one \"window\" into our original array."
   ]
  },
  {
   "cell_type": "markdown",
   "id": "499c18fd",
   "metadata": {},
   "source": []
  }
 ],
 "metadata": {
  "kernelspec": {
   "display_name": "Python 3",
   "language": "python",
   "name": "python3"
  },
  "language_info": {
   "codemirror_mode": {
    "name": "ipython",
    "version": 3
   },
   "file_extension": ".py",
   "mimetype": "text/x-python",
   "name": "python",
   "nbconvert_exporter": "python",
   "pygments_lexer": "ipython3",
   "version": "3.12.1"
  }
 },
 "nbformat": 4,
 "nbformat_minor": 5
}
